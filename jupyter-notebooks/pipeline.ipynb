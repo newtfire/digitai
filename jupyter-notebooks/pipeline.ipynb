{
 "cells": [
  {
   "metadata": {},
   "cell_type": "markdown",
   "source": "## Model Runtime Pipeline",
   "id": "c24c1efa96e078a1"
  },
  {
   "metadata": {},
   "cell_type": "markdown",
   "source": [
    "This script performs a single Retrieval-Augmented Generation (RAG) step by:\n",
    "\n",
    "1. Loading a FAISS index and ID map generated from node embeddings\n",
    "2. Embedding a user query using a SentenceTransformer model\n",
    "3. Performing a vector similarity search using FAISS\n",
    "4. Fetching corresponding node texts from a local JSONL file\n",
    "5. Building a prompt and passing it to a locally running LLM via Ollama\n",
    "6. Printing the generated response\n",
    "\n",
    "Note:\n",
    "- This script **does not use Neo4j live** — it works with pre-exported data.\n",
    "- Embeddings and node data must already be generated using `neo4j_exporter.py` and `embed_bge_m3.py`.\n",
    "- FAISS index must be built once with `build_faiss_index.py`."
   ],
   "id": "e6db0996963fab8f"
  },
  {
   "metadata": {},
   "cell_type": "markdown",
   "source": [
    "### 🧰 Standard Library Modules\n",
    "\n",
    "- `os`  Handles file path resolution relative to the project structure.\n",
    "\n",
    "- `json`  Parses ID maps and text data retrieved from FAISS and Neo4j.\n",
    "\n",
    "---\n",
    "\n",
    "### 📊 Numerical & Similarity Modules\n",
    "\n",
    "- `numpy`  Handles vector math and array manipulation for embedding comparisons and FAISS input.\n",
    "\n",
    "- `faiss`  Facebook AI Similarity Search — performs fast nearest-neighbor search to retrieve the most relevant text embeddings.\n",
    "\n",
    "- `sklearn.preprocessing.normalize` (imported as `sk_normalize`)   Normalizes query vectors to unit length for cosine similarity search.\n",
    "\n",
    "---\n",
    "\n",
    "### 🌐 Networking & Query Modules\n",
    "\n",
    "- `requests`  Sends the final prompt to a locally hosted LLM via the Ollama server and retrieves the generated response.\n",
    "\n",
    "---\n",
    "\n",
    "### 🤖 NLP Module\n",
    "\n",
    "- `sentence_transformers.SentenceTransformer`  Loads the same embedding model (e.g., BGE-M3) used in pre-processing to embed incoming user queries at runtime.\n",
    "\n",
    "---\n",
    "\n",
    "### 🔧 Project-Specific Module\n",
    "\n",
    "- `digitaiCore.config_loader.ConfigLoader`  Loads configuration settings from `config.yaml` with dot-notation access.\n",
    "  Ensures consistent access to paths, model info, and runtime behavior throughout the pipeline.Library Stuff"
   ],
   "id": "b5326ad1f5df59b4"
  },
  {
   "metadata": {
    "ExecuteTime": {
     "end_time": "2025-07-14T15:25:28.390337Z",
     "start_time": "2025-07-14T15:25:21.940564Z"
    }
   },
   "cell_type": "code",
   "source": [
    "import os\n",
    "import json\n",
    "import numpy as np  # For numeric arrays and vector math\n",
    "import faiss  # Facebook AI Similarity Search - fast vector lookup\n",
    "import requests  # To send prompt to Ollama server\n",
    "from sklearn.preprocessing import normalize as sk_normalize  # For cosine similarity\n",
    "from sentence_transformers import SentenceTransformer  # Used to embed the user query\n",
    "from digitaiCore.config_loader import ConfigLoader  # Loads config from YAML via dot notation"
   ],
   "id": "21a63330bb506e5b",
   "outputs": [
    {
     "name": "stderr",
     "output_type": "stream",
     "text": [
      "/Users/alexanderfisher/GitHub/digitai/.venv/lib/python3.13/site-packages/tqdm/auto.py:21: TqdmWarning: IProgress not found. Please update jupyter and ipywidgets. See https://ipywidgets.readthedocs.io/en/stable/user_install.html\n",
      "  from .autonotebook import tqdm as notebook_tqdm\n"
     ]
    }
   ],
   "execution_count": 12
  },
  {
   "metadata": {},
   "cell_type": "markdown",
   "source": "## Load Config and pull Key Values💿",
   "id": "ed31146119db7a29"
  },
  {
   "metadata": {
    "ExecuteTime": {
     "end_time": "2025-07-14T15:11:17.045858Z",
     "start_time": "2025-07-14T15:11:16.947119Z"
    }
   },
   "cell_type": "code",
   "source": [
    "repo_root = os.path.abspath(os.path.join(os.path.dirname(__file__), \"..\"))\n",
    "config_path = os.path.join(repo_root, \"digitaiCore\", \"config.yaml\")\n",
    "config = ConfigLoader(config_path)"
   ],
   "id": "dfd7070a4bb349ce",
   "outputs": [
    {
     "ename": "NameError",
     "evalue": "name 'os' is not defined",
     "output_type": "error",
     "traceback": [
      "\u001B[31m---------------------------------------------------------------------------\u001B[39m",
      "\u001B[31mNameError\u001B[39m                                 Traceback (most recent call last)",
      "\u001B[36mCell\u001B[39m\u001B[36m \u001B[39m\u001B[32mIn[1]\u001B[39m\u001B[32m, line 1\u001B[39m\n\u001B[32m----> \u001B[39m\u001B[32m1\u001B[39m repo_root = \u001B[43mos\u001B[49m.path.abspath(os.path.join(os.path.dirname(\u001B[34m__file__\u001B[39m), \u001B[33m\"\u001B[39m\u001B[33m..\u001B[39m\u001B[33m\"\u001B[39m))\n\u001B[32m      2\u001B[39m config_path = os.path.join(repo_root, \u001B[33m\"\u001B[39m\u001B[33mdigitaiCore\u001B[39m\u001B[33m\"\u001B[39m, \u001B[33m\"\u001B[39m\u001B[33mconfig.yaml\u001B[39m\u001B[33m\"\u001B[39m)\n\u001B[32m      3\u001B[39m config = ConfigLoader(config_path)\n",
      "\u001B[31mNameError\u001B[39m: name 'os' is not defined"
     ]
    }
   ],
   "execution_count": 1
  },
  {
   "metadata": {},
   "cell_type": "code",
   "outputs": [],
   "execution_count": null,
   "source": [
    "neo4jNodes = os.path.join(repo_root, config.get(\"dataPaths.neo4jExport\")) # File with node text + embeddings\n",
    "index_path = os.path.join(repo_root, config.get(\"dataPaths.faissIndex\")) # FAISS index file\n",
    "id_map_path = os.path.join(repo_root, config.get(\"dataPaths.faissIdMap\")) # JSON list mapping FAISS index → node ID\n",
    "embedding_model = config.get(\"embedding.model\") # SentenceTransformer model\n",
    "embedding_dim = config.get(\"vectorIndex.dimension\") # Must match FAISS dimensions\n",
    "normalize = config.get(\"embedding.normalize\") # Whether to normalize for cosine\n",
    "llm_model = config.get(\"llm.model\") # e.g. \"qwen:7b\""
   ],
   "id": "673b94fa9978cafa"
  },
  {
   "metadata": {},
   "cell_type": "markdown",
   "source": "## Load FAISS Index 📝 and ID Map 🗺️",
   "id": "43b1eeafdeab7337"
  },
  {
   "metadata": {
    "ExecuteTime": {
     "end_time": "2025-07-14T15:12:22.303932Z",
     "start_time": "2025-07-14T15:12:22.282617Z"
    }
   },
   "cell_type": "code",
   "source": [
    "print(f\"📥 Loading FAISS index from: {index_path}\")\n",
    "index = faiss.read_index(index_path\n",
    "\n",
    "with open(id_map_path, \"r\") as f:\n",
    "    id_map = json.load(f)"
   ],
   "id": "909c59edc66fb0ee",
   "outputs": [
    {
     "ename": "NameError",
     "evalue": "name 'index_path' is not defined",
     "output_type": "error",
     "traceback": [
      "\u001B[31m---------------------------------------------------------------------------\u001B[39m",
      "\u001B[31mNameError\u001B[39m                                 Traceback (most recent call last)",
      "\u001B[36mCell\u001B[39m\u001B[36m \u001B[39m\u001B[32mIn[2]\u001B[39m\u001B[32m, line 1\u001B[39m\n\u001B[32m----> \u001B[39m\u001B[32m1\u001B[39m \u001B[38;5;28mprint\u001B[39m(\u001B[33mf\u001B[39m\u001B[33m\"\u001B[39m\u001B[33m📥 Loading FAISS index from: \u001B[39m\u001B[38;5;132;01m{\u001B[39;00m\u001B[43mindex_path\u001B[49m\u001B[38;5;132;01m}\u001B[39;00m\u001B[33m\"\u001B[39m)\n\u001B[32m      2\u001B[39m index = faiss.read_index(index_path)\n",
      "\u001B[31mNameError\u001B[39m: name 'index_path' is not defined"
     ]
    }
   ],
   "execution_count": 2
  },
  {
   "metadata": {},
   "cell_type": "markdown",
   "source": "## Load Query Embedding Model 🤖",
   "id": "fb63d5679e92c35f"
  },
  {
   "metadata": {
    "ExecuteTime": {
     "end_time": "2025-07-14T15:13:36.712109Z",
     "start_time": "2025-07-14T15:13:36.695895Z"
    }
   },
   "cell_type": "code",
   "source": [
    "print(f\"🧠 Loading embedding model: {embedding_model}\")\n",
    "model = SentenceTransformer(embedding_model)"
   ],
   "id": "63065f38f3484168",
   "outputs": [
    {
     "ename": "NameError",
     "evalue": "name 'embedding_model' is not defined",
     "output_type": "error",
     "traceback": [
      "\u001B[31m---------------------------------------------------------------------------\u001B[39m",
      "\u001B[31mNameError\u001B[39m                                 Traceback (most recent call last)",
      "\u001B[36mCell\u001B[39m\u001B[36m \u001B[39m\u001B[32mIn[4]\u001B[39m\u001B[32m, line 1\u001B[39m\n\u001B[32m----> \u001B[39m\u001B[32m1\u001B[39m \u001B[38;5;28mprint\u001B[39m(\u001B[33mf\u001B[39m\u001B[33m\"\u001B[39m\u001B[33m🧠 Loading embedding model: \u001B[39m\u001B[38;5;132;01m{\u001B[39;00m\u001B[43membedding_model\u001B[49m\u001B[38;5;132;01m}\u001B[39;00m\u001B[33m\"\u001B[39m)\n\u001B[32m      2\u001B[39m model = SentenceTransformer(embedding_model)\n",
      "\u001B[31mNameError\u001B[39m: name 'embedding_model' is not defined"
     ]
    }
   ],
   "execution_count": 4
  },
  {
   "metadata": {},
   "cell_type": "markdown",
   "source": "## Get User Input 🗣️",
   "id": "7ce2050c7c670935"
  },
  {
   "metadata": {},
   "cell_type": "code",
   "outputs": [],
   "execution_count": null,
   "source": [
    "query = input(\"❓ Enter your query: \").strip()\n",
    "if not query:\n",
    "    print(\"⚠️ No query provided. Exiting.\")\n",
    "    exit()"
   ],
   "id": "367cea0ddc43a3f4"
  },
  {
   "metadata": {},
   "cell_type": "markdown",
   "source": "## Encode the Query 🧮",
   "id": "2a722e1745bee41f"
  },
  {
   "metadata": {
    "ExecuteTime": {
     "end_time": "2025-07-14T15:15:02.941941Z",
     "start_time": "2025-07-14T15:15:02.923707Z"
    }
   },
   "cell_type": "code",
   "source": "query_embedding = model.encode(query)",
   "id": "25baca22952008bf",
   "outputs": [
    {
     "ename": "NameError",
     "evalue": "name 'model' is not defined",
     "output_type": "error",
     "traceback": [
      "\u001B[31m---------------------------------------------------------------------------\u001B[39m",
      "\u001B[31mNameError\u001B[39m                                 Traceback (most recent call last)",
      "\u001B[36mCell\u001B[39m\u001B[36m \u001B[39m\u001B[32mIn[5]\u001B[39m\u001B[32m, line 1\u001B[39m\n\u001B[32m----> \u001B[39m\u001B[32m1\u001B[39m query_embedding = \u001B[43mmodel\u001B[49m.encode(query)\n",
      "\u001B[31mNameError\u001B[39m: name 'model' is not defined"
     ]
    }
   ],
   "execution_count": 5
  },
  {
   "metadata": {},
   "cell_type": "markdown",
   "source": "## Convert to 2D array and normalize if cosine similarity is enabled 🧮",
   "id": "ae873e4730e6f4a"
  },
  {
   "metadata": {
    "ExecuteTime": {
     "end_time": "2025-07-14T15:15:43.452478Z",
     "start_time": "2025-07-14T15:15:43.438347Z"
    }
   },
   "cell_type": "code",
   "source": [
    "if normalize:\n",
    "    query_embedding = sk_normalize([query_embedding], norm=\"l2\")\n",
    "else:\n",
    "    query_embedding = np.array([query_embedding])\n",
    "query_embedding = query_embedding.astype(\"float32\")"
   ],
   "id": "89c9cf514c05bb32",
   "outputs": [
    {
     "ename": "NameError",
     "evalue": "name 'normalize' is not defined",
     "output_type": "error",
     "traceback": [
      "\u001B[31m---------------------------------------------------------------------------\u001B[39m",
      "\u001B[31mNameError\u001B[39m                                 Traceback (most recent call last)",
      "\u001B[36mCell\u001B[39m\u001B[36m \u001B[39m\u001B[32mIn[6]\u001B[39m\u001B[32m, line 1\u001B[39m\n\u001B[32m----> \u001B[39m\u001B[32m1\u001B[39m \u001B[38;5;28;01mif\u001B[39;00m \u001B[43mnormalize\u001B[49m:\n\u001B[32m      2\u001B[39m     query_embedding = sk_normalize([query_embedding], norm=\u001B[33m\"\u001B[39m\u001B[33ml2\u001B[39m\u001B[33m\"\u001B[39m)\n\u001B[32m      3\u001B[39m \u001B[38;5;28;01melse\u001B[39;00m:\n",
      "\u001B[31mNameError\u001B[39m: name 'normalize' is not defined"
     ]
    }
   ],
   "execution_count": 6
  },
  {
   "metadata": {},
   "cell_type": "markdown",
   "source": "## Perform FAISS Similarity Search",
   "id": "814ef26c57fda971"
  },
  {
   "metadata": {},
   "cell_type": "code",
   "outputs": [],
   "execution_count": null,
   "source": [
    "TOP_K = 5 # Number of top matching texts to retrieve\n",
    "scores, indices = index.search(query_embedding, TOP_K)"
   ],
   "id": "d3b8fccf554a8b6f"
  },
  {
   "metadata": {},
   "cell_type": "markdown",
   "source": [
    "## Filter out invalid results 🧪\n",
    "    When no natch is returned its set to return -1. By targeting that via the following loop we remove the no match. We dont want to give the no matches to the LLM"
   ],
   "id": "836a371739a98480"
  },
  {
   "metadata": {},
   "cell_type": "code",
   "outputs": [],
   "execution_count": null,
   "source": [
    "matched_ids = [id_map[i] for i in indices[0] if i != -1]\n",
    "if not matched_ids:\n",
    "    print(\"⚠️ No relevant matches found in the FAISS index.\")\n",
    "    exit()"
   ],
   "id": "b4b09c0facf82e08"
  },
  {
   "metadata": {},
   "cell_type": "markdown",
   "source": "## Fetch matching texts from JSONL file 📚",
   "id": "623076b46203dea1"
  },
  {
   "metadata": {},
   "cell_type": "code",
   "outputs": [],
   "execution_count": null,
   "source": [
    "def fetch_node_texts_by_ids(node_ids):\n",
    "    texts = []\n",
    "    with open(neo4jNodes, \"r\", encoding=\"utf-8\") as f:\n",
    "        for line in f:\n",
    "            record = json.loads(line)\n",
    "            if record.get(\"id\") in node_ids and record.get(\"text\"):\n",
    "                texts.append(record[\"text\"])\n",
    "    return texts\n",
    "\n",
    "texts = fetch_node_texts_by_ids(matched_ids)\n",
    "\n",
    "if not texts:\n",
    "    print(\"❌ No node texts found for matched IDs in local file.\")\n",
    "    exit()"
   ],
   "id": "263cf1528fbd11ad"
  },
  {
   "metadata": {},
   "cell_type": "markdown",
   "source": "## Construct prompt for the LLM",
   "id": "64cb7dabc3ff5b8f"
  },
  {
   "metadata": {
    "ExecuteTime": {
     "end_time": "2025-07-14T15:19:36.003415Z",
     "start_time": "2025-07-14T15:19:35.980009Z"
    }
   },
   "cell_type": "code",
   "source": [
    "context = \"\\n\".join(f\"- {text}\" for text in texts)\n",
    "prompt = f\"\"\"You are a chatbot that helps people understand the TEI guidelines which specify how to encode machine-readable texts using XML.\n",
    "\n",
    "Answer the question below in the **same language the question is asked in**.\n",
    "Use examples from the provided context as needed — they can be in any language. Do not translate them.\n",
    "\n",
    "Context:\n",
    "{context}\n",
    "\n",
    "Question:\n",
    "{query}\n",
    "\"\"\""
   ],
   "id": "cc8e3be5c5278a10",
   "outputs": [
    {
     "ename": "NameError",
     "evalue": "name 'texts' is not defined",
     "output_type": "error",
     "traceback": [
      "\u001B[31m---------------------------------------------------------------------------\u001B[39m",
      "\u001B[31mNameError\u001B[39m                                 Traceback (most recent call last)",
      "\u001B[36mCell\u001B[39m\u001B[36m \u001B[39m\u001B[32mIn[7]\u001B[39m\u001B[32m, line 1\u001B[39m\n\u001B[32m----> \u001B[39m\u001B[32m1\u001B[39m context = \u001B[33m\"\u001B[39m\u001B[38;5;130;01m\\n\u001B[39;00m\u001B[33m\"\u001B[39m.join(\u001B[33mf\u001B[39m\u001B[33m\"\u001B[39m\u001B[33m- \u001B[39m\u001B[38;5;132;01m{\u001B[39;00mtext\u001B[38;5;132;01m}\u001B[39;00m\u001B[33m\"\u001B[39m \u001B[38;5;28;01mfor\u001B[39;00m text \u001B[38;5;129;01min\u001B[39;00m \u001B[43mtexts\u001B[49m)\n\u001B[32m      2\u001B[39m prompt = \u001B[33mf\u001B[39m\u001B[33m\"\"\"\u001B[39m\u001B[33mYou are a chatbot that helps people understand the TEI guidelines which specify how to encode machine-readable texts using XML.\u001B[39m\n\u001B[32m      3\u001B[39m \n\u001B[32m      4\u001B[39m \u001B[33mAnswer the question below in the **same language the question is asked in**.\u001B[39m\n\u001B[32m   (...)\u001B[39m\u001B[32m     11\u001B[39m \u001B[38;5;132;01m{\u001B[39;00mquery\u001B[38;5;132;01m}\u001B[39;00m\n\u001B[32m     12\u001B[39m \u001B[33m\"\"\"\u001B[39m\n",
      "\u001B[31mNameError\u001B[39m: name 'texts' is not defined"
     ]
    }
   ],
   "execution_count": 7
  },
  {
   "metadata": {},
   "cell_type": "markdown",
   "source": "## Send prompt to locally running LLM",
   "id": "3ec435c317b4b5e6"
  },
  {
   "metadata": {
    "ExecuteTime": {
     "end_time": "2025-07-14T15:20:59.060692Z",
     "start_time": "2025-07-14T15:20:59.056836Z"
    }
   },
   "cell_type": "code",
   "source": [
    "def ask_ollama(prompt, model):\n",
    "    try:\n",
    "        response = requests.post(\n",
    "            \"http://localhost:11434/api/generate\",\n",
    "            json={\n",
    "                \"model\": model,\n",
    "                \"prompt\": prompt,\n",
    "                \"stream\": False\n",
    "            }\n",
    "        )\n",
    "        return response.json().get(\"response\", \"[ERROR] Empty response from LLM.\")\n",
    "    except Exception as e:\n",
    "        print(\"❌ Error while querying Ollama:\", e)\n",
    "        return \"[ERROR] Could not get response from local LLM.\""
   ],
   "id": "5958fce5dfe1a21a",
   "outputs": [],
   "execution_count": 8
  },
  {
   "metadata": {},
   "cell_type": "markdown",
   "source": "## Query the model",
   "id": "16713688c9a33604"
  },
  {
   "metadata": {
    "ExecuteTime": {
     "end_time": "2025-07-14T15:21:35.627641Z",
     "start_time": "2025-07-14T15:21:35.610626Z"
    }
   },
   "cell_type": "code",
   "source": [
    "print(f\"🤖 Sending prompt to LLM ({llm_model})...\")\n",
    "answer = ask_ollama(prompt, llm_model)"
   ],
   "id": "3af0b757f1794cea",
   "outputs": [
    {
     "ename": "NameError",
     "evalue": "name 'llm_model' is not defined",
     "output_type": "error",
     "traceback": [
      "\u001B[31m---------------------------------------------------------------------------\u001B[39m",
      "\u001B[31mNameError\u001B[39m                                 Traceback (most recent call last)",
      "\u001B[36mCell\u001B[39m\u001B[36m \u001B[39m\u001B[32mIn[9]\u001B[39m\u001B[32m, line 1\u001B[39m\n\u001B[32m----> \u001B[39m\u001B[32m1\u001B[39m \u001B[38;5;28mprint\u001B[39m(\u001B[33mf\u001B[39m\u001B[33m\"\u001B[39m\u001B[33m🤖 Sending prompt to LLM (\u001B[39m\u001B[38;5;132;01m{\u001B[39;00m\u001B[43mllm_model\u001B[49m\u001B[38;5;132;01m}\u001B[39;00m\u001B[33m)...\u001B[39m\u001B[33m\"\u001B[39m)\n\u001B[32m      2\u001B[39m answer = ask_ollama(prompt, llm_model)\n",
      "\u001B[31mNameError\u001B[39m: name 'llm_model' is not defined"
     ]
    }
   ],
   "execution_count": 9
  },
  {
   "metadata": {},
   "cell_type": "markdown",
   "source": "## Display the result",
   "id": "9255c84bc4e8eede"
  },
  {
   "metadata": {
    "ExecuteTime": {
     "end_time": "2025-07-14T15:22:47.143573Z",
     "start_time": "2025-07-14T15:22:47.126585Z"
    }
   },
   "cell_type": "code",
   "source": [
    "print(\"\\n🧾 Response:\\n\")\n",
    "print(answer)"
   ],
   "id": "26fed264d8164c74",
   "outputs": [
    {
     "name": "stdout",
     "output_type": "stream",
     "text": [
      "\n",
      "🧾 Response:\n",
      "\n"
     ]
    },
    {
     "ename": "NameError",
     "evalue": "name 'answer' is not defined",
     "output_type": "error",
     "traceback": [
      "\u001B[31m---------------------------------------------------------------------------\u001B[39m",
      "\u001B[31mNameError\u001B[39m                                 Traceback (most recent call last)",
      "\u001B[36mCell\u001B[39m\u001B[36m \u001B[39m\u001B[32mIn[11]\u001B[39m\u001B[32m, line 2\u001B[39m\n\u001B[32m      1\u001B[39m \u001B[38;5;28mprint\u001B[39m(\u001B[33m\"\u001B[39m\u001B[38;5;130;01m\\n\u001B[39;00m\u001B[33m🧾 Response:\u001B[39m\u001B[38;5;130;01m\\n\u001B[39;00m\u001B[33m\"\u001B[39m)\n\u001B[32m----> \u001B[39m\u001B[32m2\u001B[39m \u001B[38;5;28mprint\u001B[39m(\u001B[43manswer\u001B[49m)\n",
      "\u001B[31mNameError\u001B[39m: name 'answer' is not defined"
     ]
    }
   ],
   "execution_count": 11
  }
 ],
 "metadata": {
  "kernelspec": {
   "display_name": "Python 3",
   "language": "python",
   "name": "python3"
  },
  "language_info": {
   "codemirror_mode": {
    "name": "ipython",
    "version": 2
   },
   "file_extension": ".py",
   "mimetype": "text/x-python",
   "name": "python",
   "nbconvert_exporter": "python",
   "pygments_lexer": "ipython2",
   "version": "2.7.6"
  }
 },
 "nbformat": 4,
 "nbformat_minor": 5
}
