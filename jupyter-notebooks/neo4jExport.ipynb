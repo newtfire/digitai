{
 "cells": [
  {
   "cell_type": "code",
   "execution_count": null,
   "id": "initial_id",
   "metadata": {
    "collapsed": true
   },
   "outputs": [],
   "source": ""
  },
  {
   "metadata": {},
   "cell_type": "markdown",
   "source": "## Neo4j Exporter 📈✉️",
   "id": "610d19ca7d5a2f2b"
  },
  {
   "metadata": {},
   "cell_type": "markdown",
   "source": [
    "### 🧰 Standard Library Modules\n",
    "\n",
    "- `os`  Handles file paths and directory operations (e.g., joining paths, checking if files exist).\n",
    "\n",
    "- `json`  Reads and writes JSON and JSONL files (e.g., for embeddings or ID maps).\n",
    "\n",
    "- `neo4j`\n",
    "- `GraphDatabase`\n",
    "\n"
   ],
   "id": "15eecca47ab29cf8"
  },
  {
   "metadata": {
    "ExecuteTime": {
     "end_time": "2025-07-15T17:37:53.588026Z",
     "start_time": "2025-07-15T17:37:53.441180Z"
    }
   },
   "cell_type": "code",
   "source": [
    "import os\n",
    "import json\n",
    "from neo4j import GraphDatabase\n",
    "from digitaiCore.config_loader import ConfigLoader"
   ],
   "id": "f51fff7c89f26653",
   "outputs": [],
   "execution_count": 1
  },
  {
   "metadata": {},
   "cell_type": "markdown",
   "source": "## Load Config 💿",
   "id": "641d61957c6473e7"
  },
  {
   "metadata": {
    "ExecuteTime": {
     "end_time": "2025-07-15T17:40:20.213751Z",
     "start_time": "2025-07-15T17:40:20.114270Z"
    }
   },
   "cell_type": "code",
   "source": [
    "repo_root = os.path.abspath(os.path.join(os.path.dirname(__file__), \"..\"))\n",
    "config_path = os.path.join(repo_root, \"digitaiCore\", \"config.yaml\")\n",
    "config = ConfigLoader(config_path)\n",
    "\n",
    "# Load config values\n",
    "output_path = os.path.join(repo_root, config.get(\"dataPaths.neo4jExport\"))\n",
    "neo4j_uri = config.get(\"neo4j.uri\")\n",
    "neo4j_user = config.get(\"neo4j.user\")\n",
    "neo4j_password = config.get(\"neo4j.password\")\n",
    "cypher_query = config.get(\"cypher.export_all\")  # Uses full export query from nested config"
   ],
   "id": "8e0fd3f2c6b348fd",
   "outputs": [
    {
     "ename": "NameError",
     "evalue": "name '__file__' is not defined",
     "output_type": "error",
     "traceback": [
      "\u001B[31m---------------------------------------------------------------------------\u001B[39m",
      "\u001B[31mNameError\u001B[39m                                 Traceback (most recent call last)",
      "\u001B[36mCell\u001B[39m\u001B[36m \u001B[39m\u001B[32mIn[2]\u001B[39m\u001B[32m, line 1\u001B[39m\n\u001B[32m----> \u001B[39m\u001B[32m1\u001B[39m repo_root = os.path.abspath(os.path.join(os.path.dirname(\u001B[34;43m__file__\u001B[39;49m), \u001B[33m\"\u001B[39m\u001B[33m..\u001B[39m\u001B[33m\"\u001B[39m))\n\u001B[32m      2\u001B[39m config_path = os.path.join(repo_root, \u001B[33m\"\u001B[39m\u001B[33mdigitaiCore\u001B[39m\u001B[33m\"\u001B[39m, \u001B[33m\"\u001B[39m\u001B[33mconfig.yaml\u001B[39m\u001B[33m\"\u001B[39m)\n\u001B[32m      3\u001B[39m config = ConfigLoader(config_path)\n",
      "\u001B[31mNameError\u001B[39m: name '__file__' is not defined"
     ]
    }
   ],
   "execution_count": 2
  },
  {
   "metadata": {},
   "cell_type": "markdown",
   "source": "## Export node data from Neo4j to JSONL output ✉️",
   "id": "cc62435ece2ff906"
  },
  {
   "metadata": {},
   "cell_type": "code",
   "outputs": [],
   "execution_count": null,
   "source": [
    "def export_neo4j_to_jsonl(uri, user, password, query, output_file):\n",
    "    driver = GraphDatabase.driver(uri, auth=(user, password))\n",
    "\n",
    "    with driver.session() as session:\n",
    "        result = session.run(query)\n",
    "        count = 0\n",
    "\n",
    "        with open(output_file, \"w\", encoding=\"utf-8\") as f:\n",
    "            for record in result:\n",
    "                json.dump({\n",
    "                    \"id\": record[\"node_id\"],\n",
    "                    \"text\": record.get(\"text\", \"\"),\n",
    "                    \"labels\": record.get(\"labels\", [])\n",
    "                }, f)\n",
    "                f.write(\"\\n\")\n",
    "                count += 1\n",
    "\n",
    "        print(f\"✅ Exported {count} nodes to {output_file}\")\n",
    "\n",
    "    driver.close()"
   ],
   "id": "c24e8ef37bcb9cf0"
  },
  {
   "metadata": {},
   "cell_type": "markdown",
   "source": "## Run export 🏃 ✉️",
   "id": "e9ee388a64522747"
  },
  {
   "metadata": {},
   "cell_type": "code",
   "outputs": [],
   "execution_count": null,
   "source": [
    "if __name__ == \"__main__\":\n",
    "    export_neo4j_to_jsonl(\n",
    "        uri=neo4j_uri,\n",
    "        user=neo4j_user,\n",
    "        password=neo4j_password,\n",
    "        query=cypher_query,\n",
    "        output_file=output_path\n",
    "    )"
   ],
   "id": "a82f535a0454724e"
  }
 ],
 "metadata": {
  "kernelspec": {
   "display_name": "Python 3",
   "language": "python",
   "name": "python3"
  },
  "language_info": {
   "codemirror_mode": {
    "name": "ipython",
    "version": 2
   },
   "file_extension": ".py",
   "mimetype": "text/x-python",
   "name": "python",
   "nbconvert_exporter": "python",
   "pygments_lexer": "ipython2",
   "version": "2.7.6"
  }
 },
 "nbformat": 4,
 "nbformat_minor": 5
}
