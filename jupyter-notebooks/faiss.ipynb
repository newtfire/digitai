{
 "cells": [
  {
   "metadata": {},
   "cell_type": "markdown",
   "source": [
    "## 📌 What `build_faiss_index.py` Does\n",
    "\n",
    "This script builds a FAISS index from precomputed BGE-M3 text embeddings stored in a `.jsonl` file. It:\n",
    "\n",
    "1. Loads vector embeddings and their associated Neo4j node IDs.\n",
    "2. Optionally normalizes vectors for cosine similarity.\n",
    "3. Constructs a FAISS index using `IndexFlatIP` (for inner product / cosine similarity).\n",
    "4. Saves the FAISS index to disk for fast semantic search.\n",
    "5. Writes an ID map to match FAISS results back to original Neo4j elements.\n",
    "\n",
    "All paths and settings (like dimension, logging, etc.) are loaded from `config.yaml`."
   ],
   "id": "f9cd283bb1b6ca30"
  },
  {
   "metadata": {},
   "cell_type": "markdown",
   "source": [
    "### 🧰 Standard Library Modules\n",
    "\n",
    "- `os`  Handles file paths and directory operations (e.g., joining paths, checking if files exist).\n",
    "\n",
    "- `json`  Reads and writes JSON and JSONL files (e.g., for embeddings or ID maps).\n",
    "\n",
    "- `logging`  Outputs progress, errors, and debug messages to a log file for monitoring and troubleshooting.\n",
    "\n",
    "---\n",
    "\n",
    "### 🔧 Project-Specific Module\n",
    "\n",
    "- `digitaiCore.config_loader.ConfigLoader`\n",
    "  Loads configuration from `config.yaml` with dot-notation access.\n",
    "  Used to retrieve paths, model settings, batch sizes, and logging options consistently across the project.\n",
    "### 📊 Numerical & Indexing Modules\n",
    "\n",
    "- `numpy`\n",
    "  Converts lists of embeddings into `float32` arrays for FAISS and supports efficient matrix operations.\n",
    "\n",
    "- `faiss`\n",
    "  Facebook AI Similarity Search — creates a high-performance vector index for fast similarity search using cosine distance or inner product.\n",
    "\n",
    "---\n",
    "\n",
    "### 🔧 Project-Specific Module\n",
    "\n",
    "- `digitaiCore.config_loader.ConfigLoader`\n",
    "  Loads configuration from `config.yaml` with dot-notation access.\n",
    "  Used to retrieve paths, model settings, batch sizes, and logging options consistently across the project."
   ],
   "id": "846a2e73687d0465"
  },
  {
   "metadata": {},
   "cell_type": "code",
   "outputs": [],
   "execution_count": null,
   "source": [
    "import os\n",
    "import json\n",
    "import faiss\n",
    "import numpy as np\n",
    "import logging\n",
    "from digitaiCore.config_loader import ConfigLoader"
   ],
   "id": "9eebf156988cc715"
  },
  {
   "metadata": {},
   "cell_type": "markdown",
   "source": "## Load Config 💿",
   "id": "8a1bce74457a7680"
  },
  {
   "metadata": {},
   "cell_type": "code",
   "outputs": [],
   "execution_count": null,
   "source": [
    "repo_root = os.path.abspath(os.path.join(os.path.dirname(__file__), \"..\")) #Set path of root\n",
    "config_path = os.path.join(repo_root, \"digitaiCore\", \"config.yaml\") #Set path of config.yaml\n",
    "config = ConfigLoader(config_path) #Load in config"
   ],
   "id": "938ca1e3713c481f"
  },
  {
   "metadata": {},
   "cell_type": "markdown",
   "source": [
    "## Set-up Logging  📝\n",
    "Logging enable and log file location are controlled via parameters set in the 'config.yaml' file\n",
    "- Logging is enabled by default and is HIGHLY suggested\n",
    "    - Logging tracks batch processing progress along with where errors have occured\n",
    "        - Due to the immense line count in the embedding file it is incredibly hard to find errors by hand. Logging makes verification/diagnosis possible"
   ],
   "id": "40334b485d4a3ee3"
  },
  {
   "metadata": {},
   "cell_type": "code",
   "outputs": [],
   "execution_count": null,
   "source": [
    "log_path = os.path.join(repo_root, config.get(\"logging.faissLog\"))\n",
    "logging.basicConfig(\n",
    "    filename=log_path,\n",
    "    level=getattr(logging, config.get(\"logging.level\")),\n",
    "    format=config.get(\"logging.format\")\n",
    ")\n",
    "logging.info(\"=== FAISS Index Build Script Start ===\")"
   ],
   "id": "b023f9f5327b61d4"
  },
  {
   "metadata": {},
   "cell_type": "markdown",
   "source": "### Pull Output Paths and Pre-Sets from Config 🛠️",
   "id": "c50ce2f5dd43653d"
  },
  {
   "metadata": {},
   "cell_type": "code",
   "outputs": [],
   "execution_count": null,
   "source": [
    "embedding_path = os.path.join(repo_root, config.get(\"dataPaths.bgem3Embeddings\"))\n",
    "index_output_path = os.path.join(repo_root, config.get(\"dataPaths.faissIndex\"))\n",
    "id_map_path = os.path.join(repo_root, config.get(\"dataPaths.faissIdMap\"))\n",
    "dimension = config.get(\"vectorIndex.dimension\")"
   ],
   "id": "3b49488a05cae3fb"
  },
  {
   "metadata": {},
   "cell_type": "markdown",
   "source": "## Load Embeddings 💿 and Build Index 👷‍♀️",
   "id": "5b2ce8a010255fde"
  },
  {
   "metadata": {},
   "cell_type": "code",
   "outputs": [],
   "execution_count": null,
   "source": [
    "logging.info(f\"📥 Loading embeddings from: {embedding_path}\")\n",
    "embeddings = []\n",
    "id_map = {}\n",
    "\n",
    "with open(embedding_path, \"r\") as f:\n",
    "    for i, line in enumerate(f):\n",
    "        record = json.loads(line)\n",
    "        embeddings.append(record[\"embedding\"])\n",
    "        id_map[i] = record[\"id\"]  # FAISS index position → node_id\n",
    "\n",
    "embedding_matrix = np.array(embeddings).astype(\"float32\")"
   ],
   "id": "57c383962c506cbe"
  },
  {
   "metadata": {},
   "cell_type": "markdown",
   "source": "### Normalize for cosine similarity (if enabled) 🧮",
   "id": "bfb65ffa0948c9fa"
  },
  {
   "metadata": {},
   "cell_type": "code",
   "outputs": [],
   "execution_count": null,
   "source": [
    "if config.get(\"embedding.normalize\"):\n",
    "    logging.info(\"📐 Normalizing embeddings for cosine similarity...\")\n",
    "    embedding_matrix = faiss.normalize_L2(embedding_matrix)"
   ],
   "id": "430d11612e58a4ff"
  },
  {
   "metadata": {},
   "cell_type": "markdown",
   "source": "## Create FAISS index 👷‍♀️(Inner Product = Cosine Sim when normalized)",
   "id": "9cc31dc16490c6aa"
  },
  {
   "metadata": {},
   "cell_type": "code",
   "outputs": [],
   "execution_count": null,
   "source": [
    "logging.info(f\"🔧 Building FAISS index: {len(embedding_matrix)} vectors, dimension = {dimension}\")\n",
    "index = faiss.IndexFlatIP(dimension)\n",
    "index.add(embedding_matrix)"
   ],
   "id": "9634fc8090f4cff7"
  },
  {
   "metadata": {},
   "cell_type": "markdown",
   "source": "## Save FAISS Index 📝 and ID Map 🗺️, Log Completion ✅",
   "id": "126ee8742b8b5cd3"
  },
  {
   "metadata": {},
   "cell_type": "code",
   "outputs": [],
   "execution_count": null,
   "source": [
    "faiss.write_index(index, index_output_path)\n",
    "logging.info(f\"✅ FAISS index saved to: {index_output_path}\")\n",
    "\n",
    "# Save ID map\n",
    "with open(id_map_path, \"w\") as f:\n",
    "    json.dump(id_map, f)\n",
    "logging.info(f\"🗂️  ID map saved to: {id_map_path}\")\n",
    "logging.info(\"🏁 FAISS Index Build Script Complete.\")"
   ],
   "id": "949269894ad45517"
  }
 ],
 "metadata": {
  "kernelspec": {
   "display_name": "Python 3",
   "language": "python",
   "name": "python3"
  },
  "language_info": {
   "codemirror_mode": {
    "name": "ipython",
    "version": 2
   },
   "file_extension": ".py",
   "mimetype": "text/x-python",
   "name": "python",
   "nbconvert_exporter": "python",
   "pygments_lexer": "ipython2",
   "version": "2.7.6"
  }
 },
 "nbformat": 4,
 "nbformat_minor": 5
}
