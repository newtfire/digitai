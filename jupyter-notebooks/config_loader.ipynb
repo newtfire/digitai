{
 "cells": [
  {
   "metadata": {},
   "cell_type": "markdown",
   "source": "## Config Loader",
   "id": "7d36fa2f8392debf"
  },
  {
   "metadata": {},
   "cell_type": "markdown",
   "source": [
    "### 🧰 Standard Library Modules\n",
    "\n",
    "- `yaml`"
   ],
   "id": "120285c6715444ad"
  },
  {
   "metadata": {},
   "cell_type": "markdown",
   "source": "### Define ConfigLoader Class",
   "id": "3eab7703d56a67b6"
  },
  {
   "metadata": {},
   "cell_type": "code",
   "outputs": [],
   "execution_count": null,
   "source": [
    "class ConfigLoader:\n",
    "    def __init__(self, config_path):\n",
    "        if not config_path.endswith(\".yaml\") and not config_path.endswith(\".yml\"):\n",
    "            raise ValueError(\"Config file must be a .yaml or .yml file\")\n",
    "\n",
    "        try:\n",
    "            with open(config_path, \"r\") as f:\n",
    "                self.config = yaml.safe_load(f)\n",
    "        except FileNotFoundError:\n",
    "            raise FileNotFoundError(f\"[ERROR] Config file not found: {config_path}\")\n",
    "        except yaml.YAMLError as e:\n",
    "            raise ValueError(f\"[ERROR] YAML parsing error: {e}\")\n"
   ],
   "id": "ea1b60fa4096d99d"
  },
  {
   "metadata": {},
   "cell_type": "markdown",
   "source": "## Define Function to Fetch Path",
   "id": "25577c08e9cf5376"
  },
  {
   "metadata": {},
   "cell_type": "code",
   "outputs": [],
   "execution_count": null,
   "source": [
    "    def get(self, key_path):\n",
    "        keys = key_path.split(\".\")\n",
    "        value = self.config\n",
    "        for key in keys:\n",
    "            if key not in value:\n",
    "                raise KeyError(f\"[ERROR] Key '{key}' not found in config path '{key_path}'\")\n",
    "            value = value[key]\n",
    "        return value"
   ],
   "id": "bdd29be3ec547659"
  }
 ],
 "metadata": {
  "kernelspec": {
   "display_name": "Python 3",
   "language": "python",
   "name": "python3"
  },
  "language_info": {
   "codemirror_mode": {
    "name": "ipython",
    "version": 2
   },
   "file_extension": ".py",
   "mimetype": "text/x-python",
   "name": "python",
   "nbconvert_exporter": "python",
   "pygments_lexer": "ipython2",
   "version": "2.7.6"
  }
 },
 "nbformat": 4,
 "nbformat_minor": 5
}
